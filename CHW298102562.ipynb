{
  "nbformat": 4,
  "nbformat_minor": 0,
  "metadata": {
    "colab": {
      "name": "CHW298102562.ipynb",
      "provenance": [],
      "collapsed_sections": [
        "vz-H2zGzdqKM",
        "cn0boFt4eHJt",
        "YdGABwix3EdW"
      ],
      "authorship_tag": "ABX9TyPlVUQZoExhz1QFmK2p7PH5",
      "include_colab_link": true
    },
    "kernelspec": {
      "name": "python3",
      "display_name": "Python 3"
    },
    "language_info": {
      "name": "python"
    }
  },
  "cells": [
    {
      "cell_type": "markdown",
      "metadata": {
        "id": "view-in-github",
        "colab_type": "text"
      },
      "source": [
        "<a href=\"https://colab.research.google.com/github/KiarashVaziri/Introduction-to-Machine-Learning/blob/main/CHW298102562.ipynb\" target=\"_parent\"><img src=\"https://colab.research.google.com/assets/colab-badge.svg\" alt=\"Open In Colab\"/></a>"
      ]
    },
    {
      "cell_type": "markdown",
      "metadata": {
        "id": "vz-H2zGzdqKM"
      },
      "source": [
        "#Intro to Machine Learning <br />\n",
        "##Computer Homework 2 <br />\n",
        "*Name: Kiarash Vaziri* <br />\n",
        "*Student Number: 98102562* <br />\n"
      ]
    },
    {
      "cell_type": "markdown",
      "metadata": {
        "id": "cn0boFt4eHJt"
      },
      "source": [
        "# C3: Linear Classification & Decision Trees:\n"
      ]
    },
    {
      "cell_type": "code",
      "metadata": {
        "id": "HSk-v2dVdpCO"
      },
      "source": [
        "import pandas as pd\n",
        "import numpy as np\n",
        "import matplotlib.pyplot as plt"
      ],
      "execution_count": null,
      "outputs": []
    },
    {
      "cell_type": "markdown",
      "metadata": {
        "id": "1rDYz_doeJsH"
      },
      "source": [
        "## A. Load Data\n"
      ]
    },
    {
      "cell_type": "markdown",
      "metadata": {
        "id": "NVgUw7XQecsz"
      },
      "source": [
        "First we must read the data from an excell file. Using following operation from pandas library, we achieve that.\n",
        "\n",
        "\n",
        "```\n",
        "dataSet = pandas.read_csv(r\"Q1_data.csv\")\n",
        "```"
      ]
    },
    {
      "cell_type": "code",
      "metadata": {
        "colab": {
          "base_uri": "https://localhost:8080/",
          "height": 345
        },
        "id": "h_R-wKcLe1Tt",
        "outputId": "245d8c14-cf39-41c7-c48a-3d84c5ea63d9"
      },
      "source": [
        "from google.colab import drive \n",
        "drive.mount('/media/gdrive', force_remount=True)\n",
        "dataSet = pd.read_csv(r\"/media/gdrive/MyDrive/MachineLearning/CHW2/data_banknote_authentication.csv\")"
      ],
      "execution_count": null,
      "outputs": [
        {
          "output_type": "error",
          "ename": "MessageError",
          "evalue": "ignored",
          "traceback": [
            "\u001b[0;31m---------------------------------------------------------------------------\u001b[0m",
            "\u001b[0;31mMessageError\u001b[0m                              Traceback (most recent call last)",
            "\u001b[0;32m<ipython-input-2-f1ad8a79a86d>\u001b[0m in \u001b[0;36m<module>\u001b[0;34m()\u001b[0m\n\u001b[1;32m      1\u001b[0m \u001b[0;32mfrom\u001b[0m \u001b[0mgoogle\u001b[0m\u001b[0;34m.\u001b[0m\u001b[0mcolab\u001b[0m \u001b[0;32mimport\u001b[0m \u001b[0mdrive\u001b[0m\u001b[0;34m\u001b[0m\u001b[0;34m\u001b[0m\u001b[0m\n\u001b[0;32m----> 2\u001b[0;31m \u001b[0mdrive\u001b[0m\u001b[0;34m.\u001b[0m\u001b[0mmount\u001b[0m\u001b[0;34m(\u001b[0m\u001b[0;34m'/media/gdrive'\u001b[0m\u001b[0;34m,\u001b[0m \u001b[0mforce_remount\u001b[0m\u001b[0;34m=\u001b[0m\u001b[0;32mTrue\u001b[0m\u001b[0;34m)\u001b[0m\u001b[0;34m\u001b[0m\u001b[0;34m\u001b[0m\u001b[0m\n\u001b[0m\u001b[1;32m      3\u001b[0m \u001b[0mdataSet\u001b[0m \u001b[0;34m=\u001b[0m \u001b[0mpd\u001b[0m\u001b[0;34m.\u001b[0m\u001b[0mread_csv\u001b[0m\u001b[0;34m(\u001b[0m\u001b[0;34mr\"/media/gdrive/MyDrive/MachineLearning/CHW2/data_banknote_authentication.csv\"\u001b[0m\u001b[0;34m)\u001b[0m\u001b[0;34m\u001b[0m\u001b[0;34m\u001b[0m\u001b[0m\n",
            "\u001b[0;32m/usr/local/lib/python3.7/dist-packages/google/colab/drive.py\u001b[0m in \u001b[0;36mmount\u001b[0;34m(mountpoint, force_remount, timeout_ms, use_metadata_server)\u001b[0m\n\u001b[1;32m    111\u001b[0m       \u001b[0mtimeout_ms\u001b[0m\u001b[0;34m=\u001b[0m\u001b[0mtimeout_ms\u001b[0m\u001b[0;34m,\u001b[0m\u001b[0;34m\u001b[0m\u001b[0;34m\u001b[0m\u001b[0m\n\u001b[1;32m    112\u001b[0m       \u001b[0muse_metadata_server\u001b[0m\u001b[0;34m=\u001b[0m\u001b[0muse_metadata_server\u001b[0m\u001b[0;34m,\u001b[0m\u001b[0;34m\u001b[0m\u001b[0;34m\u001b[0m\u001b[0m\n\u001b[0;32m--> 113\u001b[0;31m       ephemeral=ephemeral)\n\u001b[0m\u001b[1;32m    114\u001b[0m \u001b[0;34m\u001b[0m\u001b[0m\n\u001b[1;32m    115\u001b[0m \u001b[0;34m\u001b[0m\u001b[0m\n",
            "\u001b[0;32m/usr/local/lib/python3.7/dist-packages/google/colab/drive.py\u001b[0m in \u001b[0;36m_mount\u001b[0;34m(mountpoint, force_remount, timeout_ms, use_metadata_server, ephemeral)\u001b[0m\n\u001b[1;32m    134\u001b[0m   \u001b[0;32mif\u001b[0m \u001b[0mephemeral\u001b[0m\u001b[0;34m:\u001b[0m\u001b[0;34m\u001b[0m\u001b[0;34m\u001b[0m\u001b[0m\n\u001b[1;32m    135\u001b[0m     _message.blocking_request(\n\u001b[0;32m--> 136\u001b[0;31m         'request_auth', request={'authType': 'dfs_ephemeral'}, timeout_sec=None)\n\u001b[0m\u001b[1;32m    137\u001b[0m \u001b[0;34m\u001b[0m\u001b[0m\n\u001b[1;32m    138\u001b[0m   \u001b[0mmountpoint\u001b[0m \u001b[0;34m=\u001b[0m \u001b[0m_os\u001b[0m\u001b[0;34m.\u001b[0m\u001b[0mpath\u001b[0m\u001b[0;34m.\u001b[0m\u001b[0mexpanduser\u001b[0m\u001b[0;34m(\u001b[0m\u001b[0mmountpoint\u001b[0m\u001b[0;34m)\u001b[0m\u001b[0;34m\u001b[0m\u001b[0;34m\u001b[0m\u001b[0m\n",
            "\u001b[0;32m/usr/local/lib/python3.7/dist-packages/google/colab/_message.py\u001b[0m in \u001b[0;36mblocking_request\u001b[0;34m(request_type, request, timeout_sec, parent)\u001b[0m\n\u001b[1;32m    173\u001b[0m   request_id = send_request(\n\u001b[1;32m    174\u001b[0m       request_type, request, parent=parent, expect_reply=True)\n\u001b[0;32m--> 175\u001b[0;31m   \u001b[0;32mreturn\u001b[0m \u001b[0mread_reply_from_input\u001b[0m\u001b[0;34m(\u001b[0m\u001b[0mrequest_id\u001b[0m\u001b[0;34m,\u001b[0m \u001b[0mtimeout_sec\u001b[0m\u001b[0;34m)\u001b[0m\u001b[0;34m\u001b[0m\u001b[0;34m\u001b[0m\u001b[0m\n\u001b[0m",
            "\u001b[0;32m/usr/local/lib/python3.7/dist-packages/google/colab/_message.py\u001b[0m in \u001b[0;36mread_reply_from_input\u001b[0;34m(message_id, timeout_sec)\u001b[0m\n\u001b[1;32m    104\u001b[0m         reply.get('colab_msg_id') == message_id):\n\u001b[1;32m    105\u001b[0m       \u001b[0;32mif\u001b[0m \u001b[0;34m'error'\u001b[0m \u001b[0;32min\u001b[0m \u001b[0mreply\u001b[0m\u001b[0;34m:\u001b[0m\u001b[0;34m\u001b[0m\u001b[0;34m\u001b[0m\u001b[0m\n\u001b[0;32m--> 106\u001b[0;31m         \u001b[0;32mraise\u001b[0m \u001b[0mMessageError\u001b[0m\u001b[0;34m(\u001b[0m\u001b[0mreply\u001b[0m\u001b[0;34m[\u001b[0m\u001b[0;34m'error'\u001b[0m\u001b[0;34m]\u001b[0m\u001b[0;34m)\u001b[0m\u001b[0;34m\u001b[0m\u001b[0;34m\u001b[0m\u001b[0m\n\u001b[0m\u001b[1;32m    107\u001b[0m       \u001b[0;32mreturn\u001b[0m \u001b[0mreply\u001b[0m\u001b[0;34m.\u001b[0m\u001b[0mget\u001b[0m\u001b[0;34m(\u001b[0m\u001b[0;34m'data'\u001b[0m\u001b[0;34m,\u001b[0m \u001b[0;32mNone\u001b[0m\u001b[0;34m)\u001b[0m\u001b[0;34m\u001b[0m\u001b[0;34m\u001b[0m\u001b[0m\n\u001b[1;32m    108\u001b[0m \u001b[0;34m\u001b[0m\u001b[0m\n",
            "\u001b[0;31mMessageError\u001b[0m: Error: credential propagation was unsuccessful"
          ]
        }
      ]
    },
    {
      "cell_type": "code",
      "metadata": {
        "id": "-ySEf_PFfqEF"
      },
      "source": [
        "trainPercentage = 0.80\n",
        "\n",
        "x = dataSet.loc[:, 'feature 1':'feature 4']\n",
        "y = dataSet.loc[:, 'label']\n",
        "shareLength = int(trainPercentage*len(x))    # 80% of data is devoted to training set and 20% is for testing.\n",
        "\n",
        "xt = x.loc[0:shareLength, :]\n",
        "yt = y.loc[0:shareLength]\n",
        "\n",
        "xv = x.loc[shareLength+1:len(x), :]\n",
        "yv = y.loc[shareLength+1:len(y)]"
      ],
      "execution_count": null,
      "outputs": []
    },
    {
      "cell_type": "markdown",
      "metadata": {
        "id": "Xir7YMN4t6Fz"
      },
      "source": [
        "Hyperplane is defined like below:\n",
        "$$ HP:y=w^T.x+b$$ \n",
        "or the homogenous form:\n",
        "$$ HP:y=w'^T.x' $$\n",
        "The reason of making the vector homogenous is to put the constant b away and replace it with a weight in w vector.<br/> \n",
        "First, we initialize w vector with zero value:\n",
        "$$ w(0)=(0, 0, 0, 0, 0)$$\n",
        "Furthermore, in each iteration:\n",
        "$$ w(t+1)=w(t)+y_i.x_i for y_iw^tx_i<=0 $$"
      ]
    },
    {
      "cell_type": "code",
      "metadata": {
        "id": "q2ZUJQFkuX2d"
      },
      "source": [
        "def perceptron(xt, yt, xv, yv, max_iter=50000):\n",
        "  lossHistory = []\n",
        "\n",
        "  onezTrainingLength = shareLength+1\n",
        "  onez = np.ones(onezTrainingLength)\n",
        "  onezMat = np.matrix(onez)\n",
        "  xtHomogenous = np.concatenate((onezMat, np.transpose(xt)))\n",
        "  xtHomogenous = np.array(np.transpose(xtHomogenous))\n",
        "\n",
        "  \n",
        "  w = np.zeros(len(xtHomogenous[0]))\n",
        "\n",
        "  onezValidationLength = len(x) - (shareLength+1)\n",
        "  onez = np.ones(onezValidationLength)\n",
        "  onezMat = np.matrix(onez)\n",
        "  xvHomogenous = np.concatenate((onezMat, np.transpose(xv)))\n",
        "  xvHomogenous = np.array(np.transpose(xvHomogenous))\n",
        "\n",
        "  for iter in range(1, max_iter+1):\n",
        "    yhat = np.dot(xtHomogenous, w)\n",
        "    yyhat = np.multiply(yt, yhat)\n",
        "\n",
        "    for j in range(len(yyhat)):\n",
        "      if(yyhat[j] <= 0):\n",
        "        index = j\n",
        "        break\n",
        "\n",
        "    w = w + np.multiply(yt[index], xtHomogenous[index, :])\n",
        "\n",
        "    if(iter%500==0):\n",
        "      yhatValidation = np.dot(xvHomogenous, w)\n",
        "      yyhatValidation = np.multiply(yv, yhatValidation)\n",
        "      loss = (yhatValidation <= 0).sum()*1/(len(xvHomogenous))\n",
        "      lossHistory.append(loss)\n",
        "\n",
        "  w = np.multiply(w, 1/w[0])\n",
        "  return w, lossHistory\n",
        "\n",
        "w, lossHistory = perceptron(xt, yt, xv, yv)\n",
        "print(f\"1st Coefficient = {w[0]}\")\n",
        "print(f\"2nd Coefficient = {w[1]}\")\n",
        "print(f\"3rd Coefficient = {w[2]}\")\n",
        "print(f\"4th Coefficient = {w[3]}\")\n",
        "print(f\"5th Coefficient = {w[4]}\")\n",
        "print(f\"Final loss = {lossHistory[-1]}\")"
      ],
      "execution_count": null,
      "outputs": []
    },
    {
      "cell_type": "markdown",
      "metadata": {
        "id": "GpWt1A0L9CRR"
      },
      "source": [
        "## Plot test error over every 500 iterations\n",
        "\n",
        "> Indented block\n",
        "\n"
      ]
    },
    {
      "cell_type": "code",
      "metadata": {
        "id": "R5L2LyE-2Qcl"
      },
      "source": [
        "\n",
        "iter_axis = [500*t for t in range(1, 100+1)]\n",
        "plt.figure()\n",
        "plt.plot(iter_axis, lossHistory, c='b', label='True Risk')\n",
        "plt.xlabel(\"Error\")\n",
        "plt.ylabel(\"iterations\")\n",
        "plt.legend()\n",
        "plt.show()"
      ],
      "execution_count": null,
      "outputs": []
    },
    {
      "cell_type": "markdown",
      "metadata": {
        "id": "PQ2i2WhRcLON"
      },
      "source": [
        "## C. Generalize to non-linear Classification"
      ]
    },
    {
      "cell_type": "code",
      "metadata": {
        "id": "Pc9rwIvV9iy6"
      },
      "source": [
        "onezTrainingLength = shareLength+1\n",
        "onez = np.ones(onezTrainingLength)\n",
        "onezMat = np.matrix(onez)\n",
        "xtHomogenous = np.concatenate((onezMat, np.transpose(xt)))\n",
        "xtHomogenous = np.array(np.transpose(xtHomogenous))\n",
        "\n",
        "  \n",
        "w = np.zeros(len(xtHomogenous[0]))\n",
        "\n",
        "onezValidationLength = len(x) - (shareLength+1)\n",
        "onez = np.ones(onezValidationLength)\n",
        "onezMat = np.matrix(onez)\n",
        "xvHomogenous = np.concatenate((onezMat, np.transpose(xv)))\n",
        "xvHomogenous = np.array(np.transpose(xvHomogenous))\n",
        "\n",
        "\n",
        "x4to3 = np.array([[k**3] for k in xtHomogenous[:, 4]])\n",
        "xtNew = np.hstack((xt, x4to3))\n",
        "\n",
        "x4to3Validation = np.array([[h**3] for h in xvHomogenous[:, 4]])\n",
        "xvNew = np.hstack((xv, x4to3Validation))\n",
        "\n",
        "w, lossHistoryNew = perceptron(xtNew, yt, xvNew, yv)\n",
        "\n",
        "print(f\"1st Coefficient = {w[0]}\")\n",
        "print(f\"2nd Coefficient = {w[1]}\")\n",
        "print(f\"3rd Coefficient = {w[2]}\")\n",
        "print(f\"4th Coefficient = {w[3]}\")\n",
        "print(f\"5th Coefficient = {w[4]}\")\n",
        "print(f\"6th Coefficient = {w[5]}\")\n",
        "print(f\"Final loss = {lossHistory[-1]}\")\n",
        "\n",
        "iter_axis = [500*t for t in range(1, 100+1)]\n",
        "plt.figure()\n",
        "plt.plot(iter_axis, lossHistoryNew, c='b', label='True Risk')\n",
        "plt.xlabel(\"Error\")\n",
        "plt.ylabel(\"iterations\")\n",
        "plt.legend()\n",
        "plt.show()\n"
      ],
      "execution_count": null,
      "outputs": []
    },
    {
      "cell_type": "markdown",
      "metadata": {
        "id": "KhaLBY-Ncihe"
      },
      "source": [
        "## D. SVM algorithm "
      ]
    },
    {
      "cell_type": "code",
      "metadata": {
        "id": "qS3wY3BidVT2"
      },
      "source": [
        "from sklearn import svm"
      ],
      "execution_count": null,
      "outputs": []
    },
    {
      "cell_type": "markdown",
      "metadata": {
        "id": "omdmILgoeqBk"
      },
      "source": [
        "By usage of **svm.LinearSVC()** method, we model a svm linear classifier.<br/>\n",
        "We do the training process by using the **model.fit()** method.\n",
        "```\n",
        "from sklearn import svm\n",
        "clf_model = svm.LinearSVC(max_iter=50000)   \n",
        "clf_model.fit(X_train, Y_train)\n",
        "```\n",
        "Also, **model.coef_** returns the coefficient values.\n",
        "Finally, in order to find true and empirical errors, by using the **model.score()** method, we calculate the accuracy.```\n",
        "```\n",
        "clf_model = DecisionTreeClassifier(max_depth=3)   \n",
        "clf_model.fit(X_validation, Y_validation)\n",
        "```\n",
        "Finally, we define the loss of each classifier as 1 minus classifier's accuracy."
      ]
    },
    {
      "cell_type": "code",
      "metadata": {
        "id": "k2bJn1OCd-Yq"
      },
      "source": [
        "clf_model = svm.LinearSVC(max_iter=50000)\n",
        "clf_model.fit(xt, yt)\n",
        "# print(clf_model.coef_)\n",
        "\n",
        "print(f\"Coefficient of feature 1 = {clf_model.coef_[0][0]}\")\n",
        "print(f\"Coefficient of feature 2 = {clf_model.coef_[0][1]}\")\n",
        "print(f\"Coefficient of feature 3 = {clf_model.coef_[0][2]}\")\n",
        "print(f\"Coefficient of feature 4 = {clf_model.coef_[0][3]}\")\n",
        "\n",
        "empiricalRisk = 1 - clf_model.score(xt, yt)\n",
        "print(f\"Empirical risk of classifier = {empiricalRisk}\")\n",
        "\n",
        "trueRisk = 1 - clf_model.score(xv, yv)\n",
        "print(f\"True risk of classifier = {trueRisk}\")\n",
        "\n"
      ],
      "execution_count": null,
      "outputs": []
    },
    {
      "cell_type": "markdown",
      "metadata": {
        "id": "XGpSneMihyRP"
      },
      "source": [
        "## E. Conclusion \n",
        "By mapping data x to the six-dimensional, we can see that the true risk error drops a little over iterations.<br/>\n",
        "However, using SVM algorithm results in the least error which makes it the best algorithm tested on this problem. <br/>\n",
        "Comparing the weight vector in each three methods, we can conclude that the 4th feature has a more substantial weight and the overal weight vector is pretty similar in all three methods."
      ]
    },
    {
      "cell_type": "markdown",
      "metadata": {
        "id": "YdGABwix3EdW"
      },
      "source": [
        "# C4: Decision Trees"
      ]
    },
    {
      "cell_type": "markdown",
      "metadata": {
        "id": "CpQyiQqX3RBD"
      },
      "source": [
        "## A. Load Data\n"
      ]
    },
    {
      "cell_type": "code",
      "metadata": {
        "id": "gOdtwLeq3fXq"
      },
      "source": [
        "import pandas as pd\n",
        "import numpy as np\n",
        "import matplotlib.pyplot as plt"
      ],
      "execution_count": null,
      "outputs": []
    },
    {
      "cell_type": "markdown",
      "metadata": {
        "id": "jhoiZeZp3gwG"
      },
      "source": [
        "First we must read the data from an excell file. Using following operation from pandas library, we achieve that.\n",
        "\n",
        "\n",
        "```\n",
        "dataSet = pandas.read_csv(r\"Q1_data.csv\")\n",
        "```"
      ]
    },
    {
      "cell_type": "code",
      "metadata": {
        "colab": {
          "base_uri": "https://localhost:8080/"
        },
        "id": "6TiEvOSC3ojs",
        "outputId": "437f429a-9a6c-4291-d276-83ade3109f13"
      },
      "source": [
        "from google.colab import drive \n",
        "drive.mount('/media/gdrive', force_remount=True)\n",
        "dataSet = pd.read_csv(r\"/media/gdrive/MyDrive/MachineLearning/CHW2/mushrooms.csv\")"
      ],
      "execution_count": null,
      "outputs": [
        {
          "output_type": "stream",
          "name": "stdout",
          "text": [
            "Mounted at /media/gdrive\n"
          ]
        }
      ]
    },
    {
      "cell_type": "code",
      "metadata": {
        "id": "5mmPRVUo3sDl"
      },
      "source": [
        "trainPercentage = 0.70\n",
        "validPercentage = 0.20\n",
        "testPercentage = 0.1\n",
        "\n",
        "y = dataSet.loc[:, 'class']\n",
        "x = dataSet.loc[:, 'cap-shape':'habitat']\n",
        "\n",
        "xt = x.loc[0:int(trainPercentage*len(x)), :]\n",
        "yt = y.loc[0:int(trainPercentage*len(y))]\n",
        "\n",
        "xv = x.loc[int(trainPercentage*len(x))+1:int(trainPercentage*len(x))+int(validPercentage*len(x)), :]\n",
        "yv = y.loc[int(trainPercentage*len(y))+1:int(trainPercentage*len(y))+int(validPercentage*len(y))]\n",
        "\n",
        "xtest = x.loc[int(trainPercentage*len(x))+int(validPercentage*len(x))+1:len(x), :]\n",
        "ytest = y.loc[int(trainPercentage*len(y))+int(validPercentage*len(y))+1:len(y)]"
      ],
      "execution_count": null,
      "outputs": []
    },
    {
      "cell_type": "markdown",
      "metadata": {
        "id": "mrVG8a063pyq"
      },
      "source": [
        "## B. Train Decision Trees"
      ]
    },
    {
      "cell_type": "code",
      "metadata": {
        "id": "vQPI5TR88Erb"
      },
      "source": [
        "from sklearn import svm\n",
        "from sklearn.model_selection import train_test_split\n",
        "from sklearn.tree import DecisionTreeClassifier "
      ],
      "execution_count": null,
      "outputs": []
    },
    {
      "cell_type": "markdown",
      "metadata": {
        "id": "lo7fJanMCy_T"
      },
      "source": [
        "We do the training process by using the **model.fit()** method.\n",
        "```\n",
        "from sklearn.tree import DecisionTreeClassifier\n",
        "clf_model = DecisionTreeClassifier(max_depth=3)   \n",
        "clf_model.fit(X_train, Y_train)\n",
        "```\n",
        "Also, by using the **model.score()** method, we calculate the accuracy.```\n",
        "```\n",
        "clf_model = DecisionTreeClassifier(max_depth=3)   \n",
        "clf_model.fit(X_validation, Y_validation)\n",
        "```\n",
        "Finally, we define the loss of each classifier as 1 minus classifier's accuracy."
      ]
    },
    {
      "cell_type": "code",
      "metadata": {
        "colab": {
          "base_uri": "https://localhost:8080/"
        },
        "id": "fp4TkU9e8NUm",
        "outputId": "998aa1f9-527f-4514-c295-f4018dac6d7b"
      },
      "source": [
        "lossPerDepth = {}\n",
        "for depth in range(4,21,2):\n",
        "  clf_model = DecisionTreeClassifier(max_depth=depth)\n",
        "  clf_model.fit(xt, yt)\n",
        "  clfAccuracy = clf_model.score(xv, yv)\n",
        "  clfLoss = 1 - clfAccuracy\n",
        "  lossPerDepth[depth] = clfLoss\n",
        "\n",
        "for depth, lossValue in lossPerDepth.items():\n",
        "  print(f\"For depth of {depth}, loss value is {lossValue}\")"
      ],
      "execution_count": null,
      "outputs": [
        {
          "output_type": "stream",
          "name": "stdout",
          "text": [
            "For depth of 4, loss value is 0.08866995073891626\n",
            "For depth of 6, loss value is 0.009236453201970418\n",
            "For depth of 8, loss value is 0.05233990147783252\n",
            "For depth of 10, loss value is 0.013546798029556606\n",
            "For depth of 12, loss value is 0.04864532019704437\n",
            "For depth of 14, loss value is 0.009236453201970418\n",
            "For depth of 16, loss value is 0.08805418719211822\n",
            "For depth of 18, loss value is 0.013546798029556606\n",
            "For depth of 20, loss value is 0.009236453201970418\n"
          ]
        }
      ]
    },
    {
      "cell_type": "markdown",
      "metadata": {
        "id": "6DH4eoI4J9H_"
      },
      "source": [
        "## Conclusion\n",
        "By comparing the loss values for each depth we can conclude that **the best depth** with least loss value is **depth of 6** with loss value of 0.0092364532."
      ]
    },
    {
      "cell_type": "code",
      "metadata": {
        "colab": {
          "base_uri": "https://localhost:8080/"
        },
        "id": "vv-cSOb2KcAD",
        "outputId": "208d9d0a-5f6e-4a1c-c319-4b54f46c347f"
      },
      "source": [
        "clf_model = DecisionTreeClassifier(max_depth=depth)\n",
        "clf_model.fit(xt, yt)\n",
        "clfAccuracyTest = clf_model.score(xtest, ytest)\n",
        "clfTestLoss = 1 - clfAccuracyTest\n",
        "print(f\"For the depth of 6, the loss on the test data is equal to {clfTestLoss}\")"
      ],
      "execution_count": null,
      "outputs": [
        {
          "output_type": "stream",
          "name": "stdout",
          "text": [
            "For the depth of 6, the loss on the test data is equal to 0.3407134071340714\n"
          ]
        }
      ]
    },
    {
      "cell_type": "markdown",
      "metadata": {
        "id": "ZQKxl_JoK6OX"
      },
      "source": [
        "## Plot validation errors over the depths of trees"
      ]
    },
    {
      "cell_type": "code",
      "metadata": {
        "colab": {
          "base_uri": "https://localhost:8080/",
          "height": 279
        },
        "id": "dZlt5Q8YK__2",
        "outputId": "c4a5718b-03f8-4d9c-8c6b-721528f63c3f"
      },
      "source": [
        "plt.bar(lossPerDepth.keys(), lossPerDepth.values())\n",
        "plt.xlabel(\"Depth\")\n",
        "plt.ylabel(\"Validation Error\")\n",
        "plt.show()"
      ],
      "execution_count": null,
      "outputs": [
        {
          "output_type": "display_data",
          "data": {
            "image/png": "[encoded data removed]",
            "text/plain": [
              "<Figure size 432x288 with 1 Axes>"
            ]
          },
          "metadata": {
            "needs_background": "light"
          }
        }
      ]
    },
    {
      "cell_type": "markdown",
      "metadata": {
        "id": "WK5huDvQL_1T"
      },
      "source": [
        "## Explaination\n",
        "As the number of depth grows, the validation error decreases until overfitting happens.  "
      ]
    }
  ]
}
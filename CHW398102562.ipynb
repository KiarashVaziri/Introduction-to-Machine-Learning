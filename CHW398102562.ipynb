{
  "nbformat": 4,
  "nbformat_minor": 0,
  "metadata": {
    "colab": {
      "name": "CHW398102562.ipynb",
      "provenance": [],
      "collapsed_sections": [
        "DqMn2d3KhO8Y"
      ],
      "authorship_tag": "ABX9TyMEKE2SiAIAXY8++8bHiVG0",
      "include_colab_link": true
    },
    "kernelspec": {
      "name": "python3",
      "display_name": "Python 3"
    },
    "language_info": {
      "name": "python"
    },
    "accelerator": "GPU"
  },
  "cells": [
    {
      "cell_type": "markdown",
      "metadata": {
        "id": "view-in-github",
        "colab_type": "text"
      },
      "source": [
        "<a href=\"https://colab.research.google.com/github/KiarashVaziri/Introduction-to-Machine-Learning/blob/main/CHW398102562.ipynb\" target=\"_parent\"><img src=\"https://colab.research.google.com/assets/colab-badge.svg\" alt=\"Open In Colab\"/></a>"
      ]
    },
    {
      "cell_type": "markdown",
      "source": [
        "#Intro to Machine Learning <br />\n",
        "##Computer Homework 3 <br />\n",
        "*Name: Kiarash Vaziri* <br />\n",
        "*Student Number: 98102562* <br />\n"
      ],
      "metadata": {
        "id": "eJ6ldngwiTlC"
      }
    },
    {
      "cell_type": "markdown",
      "source": [
        "# C5: Multiclass Classification"
      ],
      "metadata": {
        "id": "ZATmvij_FiYn"
      }
    },
    {
      "cell_type": "code",
      "source": [
        "import numpy as np\n",
        "import pandas as pd\n",
        "import tensorflow as tf\n",
        "from tensorflow import keras\n",
        "import keras\n",
        "from keras.utils import np_utils\n",
        "from keras.models import Sequential\n",
        "from keras.layers import Dense, Dropout\n",
        "from keras.losses import categorical_crossentropy\n",
        "import matplotlib.pyplot as plt"
      ],
      "metadata": {
        "id": "loAucgCbFmkt"
      },
      "execution_count": null,
      "outputs": []
    },
    {
      "cell_type": "code",
      "source": [
        "# data loading\n",
        "from google.colab import drive \n",
        "drive.mount('/media/gdrive', force_remount=True)\n",
        "dataSet = pd.read_csv(r\"/media/gdrive/MyDrive/MachineLearning/CHW3/fashion-mnist.csv\")\n"
      ],
      "metadata": {
        "colab": {
          "base_uri": "https://localhost:8080/"
        },
        "id": "EpRoSRHnF3Nv",
        "outputId": "35b86095-c899-4ecd-c1a1-53ad3a5ba8f0"
      },
      "execution_count": null,
      "outputs": [
        {
          "output_type": "stream",
          "name": "stdout",
          "text": [
            "Mounted at /media/gdrive\n"
          ]
        }
      ]
    },
    {
      "cell_type": "code",
      "source": [
        "trainPercentage = 0.50\n",
        "validPercentage = 0.35\n",
        "testPercentage = 0.15\n",
        "\n",
        "x = dataSet.loc[:, '0':'783']\n",
        "y = dataSet.loc[:, 'y']\n",
        "\n",
        "xt = x.loc[0:int(trainPercentage*len(x)), :]\n",
        "yt = y.loc[0:int(trainPercentage*len(y))]\n",
        "\n",
        "xv = x.loc[int(trainPercentage*len(x))+1:int(trainPercentage*len(x))+int(validPercentage*len(x)), :]\n",
        "yv = y.loc[int(trainPercentage*len(y))+1:int(trainPercentage*len(y))+int(validPercentage*len(y))]\n",
        "\n",
        "xtest = x.loc[int(trainPercentage*len(x))+int(validPercentage*len(x))+1:len(x), :]\n",
        "ytest = y.loc[int(trainPercentage*len(y))+int(validPercentage*len(y))+1:len(y)]"
      ],
      "metadata": {
        "id": "_9Ev0EsIJKQ9"
      },
      "execution_count": null,
      "outputs": []
    },
    {
      "cell_type": "markdown",
      "source": [
        "## Confusion Matrix\n",
        "Furthremore, we will use the following function from sklearn library to calculate confusion matrix:\n",
        "\n",
        "```\n",
        "from sklearn.metrics import confusion_matrix\n",
        "cm = confusion_matrix(y_true, y_pred)\n",
        "```\n"
      ],
      "metadata": {
        "id": "u4e49k9JMv1Z"
      }
    },
    {
      "cell_type": "code",
      "source": [
        "from sklearn.metrics import confusion_matrix\n",
        "from sklearn.metrics import accuracy_score"
      ],
      "metadata": {
        "id": "YE5X_l2jNPFU"
      },
      "execution_count": null,
      "outputs": []
    },
    {
      "cell_type": "markdown",
      "source": [
        "## 1. SVM with Linear Kernel \n",
        "The objective of a Linear SVC (Support Vector Classifier) is to fit to the data you provide, returning a \"best fit\" hyperplane that divides, or categorizes, your data.\n",
        "\n",
        "\n",
        "```\n",
        "from sklearn import svm\n",
        "clf = svm.SVC(kernel='linear')\n",
        "clf_trained_model = clf.fit(X,y)\n",
        "```"
      ],
      "metadata": {
        "id": "VpvuIIxqK03q"
      }
    },
    {
      "cell_type": "markdown",
      "source": [
        "Also by using the following function, we can predict and validate:\n",
        "\n",
        "```\n",
        "clf_trained_model.predict(xvalidation)\n",
        "```\n",
        "\n"
      ],
      "metadata": {
        "id": "3plXSbWvL8On"
      }
    },
    {
      "cell_type": "code",
      "source": [
        "from sklearn.svm import SVC\n",
        "\n",
        "# 1st method: SVM with Linear Kernel\n",
        "clf = SVC(kernel = 'linear')\n",
        "clf_trained_model = clf.fit(xt, yt)\n",
        "y_predicted = clf_trained_model.predict(xv)\n",
        "confusion_matrix_SVM = confusion_matrix(yv, y_predicted)\n",
        "\n",
        "print(f\"SVM with linear kernel results the following confusion matrix:\\n{confusion_matrix_SVM}\")\n",
        "\n",
        "accuracy_SVM = accuracy_score(yv, y_predicted)\n",
        "print(f\"Accuracy score of SVM with linear kernel is {accuracy_SVM}\")"
      ],
      "metadata": {
        "colab": {
          "base_uri": "https://localhost:8080/"
        },
        "id": "OaJ0W4NfJTwe",
        "outputId": "7ed1cc40-13f5-45e8-b4af-32531dc42417"
      },
      "execution_count": null,
      "outputs": [
        {
          "output_type": "stream",
          "name": "stdout",
          "text": [
            "SVM with gaussian kernel results the following confusion matrix:\n",
            "[[253   4   6  11   1   0  46   0   5   0]\n",
            " [  4 338   1   5   0   0   0   0   0   0]\n",
            " [ 12   2 250   3  37   0  42   0   3   0]\n",
            " [ 30   9   5 276   8   0   5   0   1   0]\n",
            " [  4   2  61  22 233   0  36   0   2   0]\n",
            " [  0   0   0   0   1 276   0  16   2   2]\n",
            " [ 64   1  45  11  37   0 199   0   3   0]\n",
            " [  0   0   0   0   0  21   0 364   1  15]\n",
            " [  5   0   3   1   1   2  12   3 341   2]\n",
            " [  0   0   0   0   0  14   0  21   0 320]]\n",
            "Accuracy score of SVM with linear kernel is 0.8142857142857143\n"
          ]
        }
      ]
    },
    {
      "cell_type": "markdown",
      "source": [
        "## 2. SVM with Gaussian Kernel\n",
        "Most of the modeling is the same as the previous method with the diffrence that here we have to find an optional parameter, 𝞂, that has to be set optimally."
      ],
      "metadata": {
        "id": "ZvZvxzHVRm0v"
      }
    },
    {
      "cell_type": "code",
      "source": [
        "from sklearn.svm import SVC\n",
        "\n",
        "# 2nd method: SVM with Gaussian Kernel\n",
        "sigmas = np.logspace(-10, 0, num = 11)\n",
        "accuracy_SVM = []\n",
        "\n",
        "for i in range(len(sigmas)):\n",
        "  clf = SVC(kernel = 'rbf', gamma = sigmas[i])\n",
        "  clf_trained_model = clf.fit(xt, yt)\n",
        "  y_predicted = clf_trained_model.predict(xv)\n",
        "  accuracy_SVM.append(accuracy_score(yv, y_predicted))\n",
        "\n",
        "max_accuracy = max(accuracy_SVM)\n",
        "max_index = accuracy_SVM.index(max_accuracy)\n",
        "\n",
        "clf = SVC(kernel = 'rbf', gamma = sigmas[max_index])\n",
        "clf_trained_model = clf.fit(xt, yt)\n",
        "y_predicted = clf_trained_model.predict(xv)\n",
        "\n",
        "confusion_matrix_SVM = confusion_matrix(yv, y_predicted)\n",
        "print(f\"SVM with gaussian kernel results the following confusion matrix:\\n{confusion_matrix_SVM}\")\n",
        "print(f\"Accuracy score of SVM with gaussian kernel is {max_accuracy}\")"
      ],
      "metadata": {
        "colab": {
          "base_uri": "https://localhost:8080/"
        },
        "id": "2puHTjTUJff6",
        "outputId": "58441a74-6e4a-4486-bdc9-6c58f0043115"
      },
      "execution_count": null,
      "outputs": [
        {
          "output_type": "stream",
          "name": "stdout",
          "text": [
            "SVM with gaussian kernel results the following confusion matrix:\n",
            "[[277   2   3  16   0   0  21   0   7   0]\n",
            " [  2 327   2  16   0   0   1   0   0   0]\n",
            " [  7   0 265   7  40   0  28   0   2   0]\n",
            " [ 16   0   0 302   9   0   7   0   0   0]\n",
            " [  2   1  31  18 267   0  39   0   2   0]\n",
            " [  0   0   0   0   0 269   0  22   2   4]\n",
            " [ 88   1  42   8  34   0 182   0   5   0]\n",
            " [  0   0   0   0   0  17   0 365   0  19]\n",
            " [  2   0   2   3   1   2   8   3 347   2]\n",
            " [  0   0   0   0   0   6   0  17   0 332]]\n",
            "Accuracy score of SVM with linear kernel is 0.838\n"
          ]
        }
      ]
    },
    {
      "cell_type": "markdown",
      "source": [
        "We can see with signa = 10^-7 we find the best result."
      ],
      "metadata": {
        "id": "ca0msq_rrxof"
      }
    },
    {
      "cell_type": "markdown",
      "source": [
        "## 3. K-nearest Neighbors \n",
        "In order to implement this method, we use the following function from scikit-learn library:\n",
        "\n",
        "```\n",
        "from sklearn.neighbors import KNeighborsClassifier\n",
        "clf = KNeighborsClassifier(n_neighbors = k)\n",
        "clf.fit(X_train, y_train)\n",
        "```"
      ],
      "metadata": {
        "id": "pFNPHH2acq1l"
      }
    },
    {
      "cell_type": "code",
      "source": [
        "from sklearn.neighbors import KNeighborsClassifier\n",
        "\n",
        "training = []\n",
        "scores = []\n",
        "  \n",
        "for k in range(2, 10):\n",
        "    clf = KNeighborsClassifier(n_neighbors = k)\n",
        "    clf.fit(xt, yt)\n",
        "    training_score = clf.score(xv, yv)\n",
        "    training.append(training_score)\n",
        "    scores.append(training_score)\n",
        "\n",
        "max_accuracy = max(scores)\n",
        "print(f\"max_index or k is {max_index}\")\n",
        "max_index = scores.index(max_accuracy)\n",
        "\n",
        "clf = KNeighborsClassifier(n_neighbors = k)\n",
        "clf_trained_model = clf.fit(xt, yt)\n",
        "y_predicted = clf_trained_model.predict(xv)\n",
        "model_accuracy = accuracy_score(yv, y_predicted)\n",
        "\n",
        "confusion_matrix_SVM = confusion_matrix(yv, y_predicted)\n",
        "print(f\"K-nearest neighbors results the following confusion matrix:\\n{confusion_matrix_SVM}\")\n",
        "print(f\"Accuracy score of K-nearest neighbors is {model_accuracy}\")"
      ],
      "metadata": {
        "colab": {
          "base_uri": "https://localhost:8080/"
        },
        "id": "clHXcJO9dmis",
        "outputId": "8db7122a-cb67-4480-df54-2c8fa0b23ddf"
      },
      "execution_count": null,
      "outputs": [
        {
          "output_type": "stream",
          "name": "stdout",
          "text": [
            "max_index or k is 0\n",
            "K-nearest neighbors results the following confusion matrix:\n",
            "[[277   2   8   9   1   0  25   0   4   0]\n",
            " [  4 329   3   9   0   0   3   0   0   0]\n",
            " [  9   0 243   4  45   0  47   0   1   0]\n",
            " [ 20   3   0 290  12   0   8   0   1   0]\n",
            " [  0   1  52  25 236   0  45   0   1   0]\n",
            " [  3   0   2   0   0 218   0  50   2  22]\n",
            " [ 92   1  49   8  33   1 174   0   2   0]\n",
            " [  0   0   0   0   0   4   0 369   0  28]\n",
            " [  1   0   9   5   5   0  12  10 324   4]\n",
            " [  0   0   0   0   0   1   0  13   0 341]]\n",
            "Accuracy score of K-nearest neighbors is 0.8002857142857143\n"
          ]
        }
      ]
    },
    {
      "cell_type": "markdown",
      "source": [
        "As found above, we can conclude that for k=2 the accuracy is maximum."
      ],
      "metadata": {
        "id": "Y2YAd1eIg-Mq"
      }
    },
    {
      "cell_type": "markdown",
      "source": [
        "## 4. Decision Tree\n",
        "For this section we use the already-built-it model of scikit-learn library.\n",
        "\n",
        "\n",
        "```\n",
        "from sklearn.tree import DecisionTreeClassifier\n",
        "clf = DecisionTreeClassifier()\n",
        "clf_trained_model = clf.fit(xt, yt)\n",
        "```\n",
        "\n"
      ],
      "metadata": {
        "id": "DqMn2d3KhO8Y"
      }
    },
    {
      "cell_type": "code",
      "source": [
        "from sklearn.tree import DecisionTreeClassifier\n",
        "\n",
        "# 4. Decision tree \n",
        "\n",
        "clf = DecisionTreeClassifier()\n",
        "clf_trained_model = clf.fit(xt, yt)\n",
        "y_predicted = clf_trained_model.predict(xv)\n",
        "model_accuracy = accuracy_score(yv, y_predicted)\n",
        "\n",
        "confusion_matrix_SVM = confusion_matrix(yv, y_predicted)\n",
        "print(f\"Decision tree method results the following confusion matrix:\\n{confusion_matrix_SVM}\")\n",
        "print(f\"Accuracy score of Decision tree is {model_accuracy}\")"
      ],
      "metadata": {
        "colab": {
          "base_uri": "https://localhost:8080/"
        },
        "id": "KlmdJUZEiC9p",
        "outputId": "f84a9458-a8ea-4c3c-9795-d8e076c0cef9"
      },
      "execution_count": null,
      "outputs": [
        {
          "output_type": "stream",
          "name": "stdout",
          "text": [
            "Decision tree method results the following confusion matrix:\n",
            "[[230   4   7  24   4   4  43   0   9   1]\n",
            " [  2 319   0  19   2   0   2   0   4   0]\n",
            " [ 13   0 218   7  55   1  48   0   7   0]\n",
            " [ 14  13   4 258  26   2  13   0   4   0]\n",
            " [  6   7  72  18 204   0  46   0   7   0]\n",
            " [  1   1   3   1   0 241   1  28   6  15]\n",
            " [ 55   5  56  17  46   3 169   0   9   0]\n",
            " [  0   0   0   0   0  31   0 308   2  60]\n",
            " [  3   2  17   6   9   8  15   5 300   5]\n",
            " [  1   0   1   1   0  17   0  32   2 301]]\n",
            "Accuracy score of Decision tree is 0.728\n"
          ]
        }
      ]
    },
    {
      "cell_type": "markdown",
      "source": [
        "## 5. Neural Networks\n",
        "For creating a neural network we should take a few steps, first we build the model of out neural network."
      ],
      "metadata": {
        "id": "CeTJoxRMlXwS"
      }
    },
    {
      "cell_type": "code",
      "source": [
        "# 5. Neural Networks\n",
        "# building the model\n",
        "\n",
        "model = keras.Sequential([\n",
        "    keras.layers.Input(shape=(784,)),                                   # input layer (1)\n",
        "    keras.layers.Dense(100, activation='relu'),                         # hidden layer (2)\n",
        "    keras.layers.Dense(100, activation='relu'),                         # hidden layer (3)\n",
        "    keras.layers.Dense(10, activation='softmax')                        # output layer (4)\n",
        "])"
      ],
      "metadata": {
        "id": "xRkPmyGvisMy"
      },
      "execution_count": null,
      "outputs": []
    },
    {
      "cell_type": "markdown",
      "source": [
        "Before the model is ready for training, it needs a few more settings. These are added during the model's compile step:\n",
        "* loss function\n",
        "*  optimizer\n",
        "*  metrics\n"
      ],
      "metadata": {
        "id": "dvAjkm5YXMQB"
      }
    },
    {
      "cell_type": "code",
      "source": [
        "# compile the model\n",
        "model.compile(\n",
        "    loss='categorical_crossentropy', \n",
        "    optimizer='sgd', \n",
        "    metrics=['accuracy']\n",
        ")"
      ],
      "metadata": {
        "id": "7XztN5oQXGox"
      },
      "execution_count": null,
      "outputs": []
    },
    {
      "cell_type": "markdown",
      "source": [
        "Since our train label list is one-dimensional, we convert it into a categorical list."
      ],
      "metadata": {
        "id": "bHE6lq8vwZr7"
      }
    },
    {
      "cell_type": "code",
      "source": [
        "yt_categorical = np_utils.to_categorical(yt)\n",
        "yv_categorical = np_utils.to_categorical(yv)"
      ],
      "metadata": {
        "id": "lfIQvOyPv_ha"
      },
      "execution_count": null,
      "outputs": []
    },
    {
      "cell_type": "markdown",
      "source": [
        "Now, we are prepared to train our model. To start training, call the model.fit method—so called because it \"fits\" the model to the training data:"
      ],
      "metadata": {
        "id": "3KvcGN-IYcL6"
      }
    },
    {
      "cell_type": "code",
      "source": [
        "trained_nn = model.fit(xt, yt_categorical, epochs = 400, verbose = 0)"
      ],
      "metadata": {
        "id": "F7yWZdxTYW7K"
      },
      "execution_count": null,
      "outputs": []
    },
    {
      "cell_type": "code",
      "source": [
        "empirical_error = model.evaluate(xt, yt_categorical, verbose=0)\n",
        "true_risk = model.evaluate(xv, yv_categorical, verbose=0)\n",
        "print(empirical_error)\n",
        "print(true_risk)"
      ],
      "metadata": {
        "colab": {
          "base_uri": "https://localhost:8080/"
        },
        "id": "rqXvL7G_vzHk",
        "outputId": "9a6fb24e-ca28-457b-98aa-5a50ff64d76b"
      },
      "execution_count": null,
      "outputs": [
        {
          "output_type": "stream",
          "name": "stdout",
          "text": [
            "[2.3019254207611084, 0.10677864402532578]\n",
            "[2.3037219047546387, 0.09542857110500336]\n"
          ]
        }
      ]
    },
    {
      "cell_type": "code",
      "source": [
        "ynn_predicted = model.predict(xv)\n",
        "cm = confusion_matrix(yv, ynn_predicted)"
      ],
      "metadata": {
        "colab": {
          "base_uri": "https://localhost:8080/"
        },
        "id": "73I8OZR6y2is",
        "outputId": "f38fa4b3-048d-493a-9899-e80b5982648d"
      },
      "execution_count": null,
      "outputs": [
        {
          "output_type": "stream",
          "name": "stdout",
          "text": [
            "[0.10208514 0.10154129 0.10342988 0.10667942 0.09354644 0.09602649\n",
            " 0.10033685 0.09676646 0.10100774 0.09858031]\n"
          ]
        }
      ]
    },
    {
      "cell_type": "markdown",
      "source": [
        "# Conclusion\n",
        "As calculated above, we pick SVM with **gaussian kernel function**."
      ],
      "metadata": {
        "id": "Ex4TBrDlppwe"
      }
    },
    {
      "cell_type": "code",
      "source": [
        "from sklearn.svm import SVC\n",
        "\n",
        "# 2nd method: SVM with Gaussian Kernel\n",
        "# testing the test data \n",
        "sigma = 1e-7\n",
        "clf = SVC(kernel = 'rbf', gamma = sigma)\n",
        "clf_trained_model = clf.fit(xt, yt)\n",
        "ytest_predicted = clf_trained_model.predict(xtest)\n",
        "test_accuracy = accuracy_score(ytest, ytest_predicted)\n",
        "\n",
        "confusion_matrix_SVM = confusion_matrix(ytest, ytest_predicted)\n",
        "print(f\"SVM with gaussian kernel results the following test confusion matrix:\\n{confusion_matrix_SVM}\")\n",
        "print(f\"Test accuracy score of SVM with gaussian kernel is {test_accuracy}\")"
      ],
      "metadata": {
        "colab": {
          "base_uri": "https://localhost:8080/"
        },
        "id": "rYFM7olUqLkl",
        "outputId": "0fc49f13-fdc1-49a9-825d-0857a6acfea9"
      },
      "execution_count": null,
      "outputs": [
        {
          "output_type": "stream",
          "name": "stdout",
          "text": [
            "SVM with gaussian kernel results the following test confusion matrix:\n",
            "[[129   0   0  11   0   0   7   0   1   0]\n",
            " [  2 127   4   9   0   0   0   0   2   0]\n",
            " [  1   0 118   3  27   0  14   0   0   0]\n",
            " [  8   2   0 132   3   0   3   0   0   0]\n",
            " [  2   0   8   7 122   0  20   0   0   0]\n",
            " [  0   0   0   0   0 125   0  11   1   3]\n",
            " [ 39   0  16   5  11   0  79   0   1   0]\n",
            " [  0   0   0   0   0   4   0 147   0   3]\n",
            " [  1   0   3   0   0   2   4   1 129   0]\n",
            " [  0   0   0   0   0   4   0   7   0 141]]\n",
            "Test accuracy score of SVM with gaussian kernel is 0.8332221480987325\n"
          ]
        }
      ]
    }
  ]
}